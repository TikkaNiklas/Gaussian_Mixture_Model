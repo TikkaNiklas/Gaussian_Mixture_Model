{
 "cells": [
  {
   "cell_type": "code",
   "execution_count": 1,
   "id": "2295cdb1",
   "metadata": {
    "tags": [
     "libraries"
    ]
   },
   "outputs": [],
   "source": [
    "import pandas as pd\n",
    "import numpy as np\n",
    "from scipy import stats\n",
    "import plotly.express as px\n",
    "import statsmodels.api as sm\n",
    "import matplotlib.pyplot as plt\n",
    "import warnings\n",
    "from sklearn.mixture import GaussianMixture\n",
    "import PySimpleGUI as sg\n",
    "import os\n",
    "from PIL import Image\n",
    "\n",
    "warnings.filterwarnings('ignore')\n",
    "data = []\n",
    "original_data=data"
   ]
  },
  {
   "cell_type": "code",
   "execution_count": 2,
   "id": "ddf981ff",
   "metadata": {},
   "outputs": [],
   "source": [
    "dist_list = [\"cauchy\", \"chi2\",\"pearson3\",\n",
    "             \"expon\", \"exponpow\",\"dweibull\",\n",
    "             \"lognorm\", \"powerlaw\", \"uniform\",\n",
    "             \"beta\",  \"gamma\",\"norm\", \"rayleigh\"]\n"
   ]
  },
  {
   "cell_type": "code",
   "execution_count": 3,
   "id": "5aab148b",
   "metadata": {
    "tags": [
     "available_distributions"
    ]
   },
   "outputs": [],
   "source": [
    "#available distributions\n",
    "# 'alpha','anglit','arcsine','beta','betaprime','bradford','burr',\n",
    "# 'burr12','cauchy','chi','chi2','cosine','dgamma','dweibull','erlang',\n",
    "# 'expon','exponnorm','exponweib','exponpow','f','fatiguelife','fisk',\n",
    "# 'foldcauchy','foldnorm','frechet_r','frechet_l','genlogistic','genpareto',\n",
    "# 'gennorm','genexpon','genextreme','gausshyper','gamma','gengamma','genhalflogistic',\n",
    "# 'gilbrat','gompertz','gumbel_r','gumbel_l','halfcauchy','halflogistic','halfnorm',\n",
    "# 'halfgennorm','hypsecant','invgamma','invgauss','invweibull','johnsonsb','johnsonsu',\n",
    "# 'kstwobign','laplace','levy','levy_l','logistic','loggamma','loglaplace','lognorm','lomax',\n",
    "# 'maxwell','mielke','nakagami','ncx2','ncf','nct','norm','pareto','pearson3','powerlaw','powerlognorm',\n",
    "# 'powernorm','rdist','reciprocal','rayleigh','rice','recipinvgauss','semicircular','t','triang','truncexpon',\n",
    "# 'truncnorm','tukeylambda','uniform','vonmises','vonmises_line','wald','weibull_min','weibull_max'"
   ]
  },
  {
   "cell_type": "code",
   "execution_count": 4,
   "id": "ac24d88b",
   "metadata": {
    "tags": [
     "outlier_removal"
    ]
   },
   "outputs": [],
   "source": [
    "#outlier_removal\n",
    "\n",
    "#goes threw johnson transformation\n",
    "def jt(data):\n",
    "    yeo = getattr(stats, 'yeojohnson')\n",
    "    data, lmbda2 = yeo(data)\n",
    "    return data\n",
    "\n",
    "#removes outliers with 3 S.D away (3 z-score)\n",
    "def nd(data):\n",
    "    for y in data:\n",
    "        sd=np.std(data, ddof=1)\n",
    "        mean=np.mean(data)\n",
    "        ucl= mean +3*sd\n",
    "        lcl=mean -3*sd\n",
    "        data1 = data[data<ucl]\n",
    "        data_new =data1[data1>lcl]\n",
    "        x=len(data)-len(data_new)\n",
    "        data=data_new\n",
    "        return data\n",
    "        if x == 0:\n",
    "            break\n",
    "    \n",
    "#turns johnson transformed data back to normal   \n",
    "def jt_filtered(data):\n",
    "    data_maxfit =jt(data)<max(nd(jt(data)))\n",
    "    data_minfit =jt(data)>min(nd(jt(data)))\n",
    "    data =data*data_maxfit*data_minfit\n",
    "    return data"
   ]
  },
  {
   "cell_type": "code",
   "execution_count": 5,
   "id": "da98c13f",
   "metadata": {
    "tags": [
     "best_distribution_finder"
    ]
   },
   "outputs": [],
   "source": [
    "# distribution_fitter\n",
    "def dist_fit(data):\n",
    "    best_stat=np.inf\n",
    "    best_dist=[]\n",
    "\n",
    "    #finding best distribution\n",
    "    for dist in dist_list:\n",
    "        x = getattr(stats,dist)\n",
    "        params = x.fit(data)\n",
    "        stat,p = stats.kstest(data, dist, args=params)\n",
    "        if best_stat>stat:\n",
    "            best_stat = stat\n",
    "            best_dist = dist\n",
    "\n",
    "    #plotting best fit and data and showing outliers\n",
    "    x = getattr(stats,best_dist)\n",
    "    params = x.fit(data)\n",
    "    x_fit = np.linspace(min(data),max(data), len(data))\n",
    "    pdf = x.pdf(x_fit, *params,)\n",
    "    if len(data)<501:\n",
    "        nbins=len(data)\n",
    "    else:\n",
    "        nbins = 500\n",
    "    fig = px.histogram(x= original_data,histnorm = 'probability density', title=(str(best_dist)+\",stat=\"+str(best_stat)),nbins=nbins)\n",
    "    fig.add_scatter(x =x_fit, y =pdf)\n",
    "    fig.add_vline(max(data))\n",
    "    fig.add_vline(min(data))\n",
    "    if not os.path.exists(\"output_graphs\"):\n",
    "        os.mkdir(\"output_graphs\")\n",
    "    fig.write_image(\"output_graphs/fig1.png\")\n",
    "    "
   ]
  },
  {
   "cell_type": "code",
   "execution_count": 6,
   "id": "37a81c8a",
   "metadata": {
    "scrolled": false,
    "tags": [
     "qqplots"
    ]
   },
   "outputs": [],
   "source": [
    "#qqplot\n",
    "def qqplot(data):\n",
    "    #grid setup\n",
    "    n_cols = int(np.ceil(np.sqrt(len(dist_list))))\n",
    "    n_rows = int(np.ceil(len(dist_list)/n_cols))\n",
    "    fig, ax  = plt.subplots(n_cols, n_rows, figsize=(n_cols*3, n_rows*3))\n",
    "    axs = ax.flatten()\n",
    "    i = 0\n",
    "    y=len(axs)\n",
    "    for x in axs:\n",
    "        if y == len(dist_list):\n",
    "            break\n",
    "        y=y-1\n",
    "        axs[y].set_visible(False)\n",
    "\n",
    "    #qq plots\n",
    "    for t in dist_list:\n",
    "        x = getattr(stats,t)\n",
    "        params = x.fit(data)\n",
    "        sm.qqplot(data,x,fit=params,line=\"45\", ax = axs[i])\n",
    "        axs[i].set_title(t)\n",
    "        i+=1\n",
    "    plt.tight_layout()\n",
    "    fig.patch.set_facecolor('white')\n",
    "    if not os.path.exists(\"output_graphs\"):\n",
    "        os.mkdir(\"output_graphs\")\n",
    "    fig.savefig(\"output_graphs/fig1.png\")\n",
    "    plt.close(fig)\n",
    "    \n",
    "    img = Image.open(\"output_graphs/fig1.png\")\n",
    "    img = img.resize((512, 512), Image.ANTIALIAS)\n",
    "    img.save(\"output_graphs/fig1.png\")"
   ]
  },
  {
   "cell_type": "code",
   "execution_count": 7,
   "id": "e2648d9a",
   "metadata": {},
   "outputs": [],
   "source": [
    "#finding optimal ammount of distributions\n",
    "def BIC(data):\n",
    "    reshaped_data= np.array(data).reshape(-1,1)\n",
    "    min_bic=-1\n",
    "    for x in range(1,11):\n",
    "        GMdata=GaussianMixture(n_components=x,covariance_type='full')\n",
    "        GMdata.fit(reshaped_data)\n",
    "        bic=GMdata.bic(reshaped_data)\n",
    "        if bic < min_bic or min_bic==-1:\n",
    "            min_bic = bic\n",
    "            n_optimal=x\n",
    "    return (n_optimal,reshaped_data)"
   ]
  },
  {
   "cell_type": "code",
   "execution_count": 8,
   "id": "5aece19c",
   "metadata": {
    "scrolled": false
   },
   "outputs": [],
   "source": [
    "#graphing the gaussian mixture\n",
    "def GaussianMix(data):\n",
    "    \n",
    "    #collecting the gaussian mixture data\n",
    "    GMdata=GaussianMixture(n_components=n_optimal,covariance_type='full')\n",
    "    GMdata.fit(BIC(data)[1])\n",
    "\n",
    "    #plotting\n",
    "    x_axis = np.arange(min(original_data),max(original_data))\n",
    "    y_avg=np.array(0,)\n",
    "    if len(data)<501:\n",
    "        nbins=len(data)\n",
    "    else:\n",
    "        nbins = 500\n",
    "    fig = px.histogram(x= original_data,histnorm = 'probability density',title=(\"gaussian Mixture of \"+str(n_optimal)+\" components\"),nbins=nbins)\n",
    "    fig.add_vline(max(data))\n",
    "    fig.add_vline(min(data))\n",
    "\n",
    "    x_axis = np.arange(min(data),max(data))\n",
    "    for n in range(n_optimal):\n",
    "        y_axis = stats.norm.pdf(x_axis, float(GMdata.means_[n]), np.sqrt(float(GMdata.covariances_[n])))*GMdata.weights_[n]\n",
    "        fig.add_scatter(x = x_axis, y = y_axis,line=dict(color=\"black\",width=3),line_shape='spline')\n",
    "        y_avg = y_avg+y_axis\n",
    "    \n",
    "    fig.add_scatter(x =x_axis, y =y_avg,line=dict(color=\"darkred\",width=2),line_shape='spline')\n",
    "    if not os.path.exists(\"output_graphs\"):\n",
    "        os.mkdir(\"output_graphs\")\n",
    "    fig.write_image(\"output_graphs/fig1.png\")"
   ]
  },
  {
   "cell_type": "code",
   "execution_count": null,
   "id": "1512f8b5",
   "metadata": {
    "scrolled": false
   },
   "outputs": [],
   "source": [
    "#The User Interface\n",
    "\n",
    "Icon = \"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\"\n",
    "sg.theme('Dark Grey5')\n",
    "option = (1)\n",
    "\n",
    "#layout\n",
    "left_column = [    \n",
    "    [sg.Text('input Data (csv or excel)')],\n",
    "    [sg.Input(enable_events = True,key=\"file\"),sg.FileBrowse(file_types = ((\"xls files\",\"*.xls\"),(\"csv files\",\"*.csv\"),(\"xlsx files\",\"*.xlsx\")))],\n",
    "    [sg.Text(\"Select column\")],\n",
    "    [sg.Combo([],enable_events=True,size=(43,0),key = \"column\")],\n",
    "    [sg.Text('Anaylsis Type')],\n",
    "    [sg.Radio(\"Distribution Fitter\",\"connect_radio\",enable_events=True,key = \"fit\"),sg.Radio(\"QQ-plots\",\"connect_radio\",enable_events=True,key = \"qq-plot\"),sg.Radio(\"Gaussian Mixture\",\"connect_radio\",enable_events=True,key =\"mix\")],\n",
    "    [sg.Button(\"Enter\",key = \"enter\"), sg.Button(\"Exit\",key = \"exit\")]\n",
    "                ]\n",
    "right_column = [\n",
    "    [sg.Text(\"---output---\", justification='center')],\n",
    "    [sg.Image(key=\"graph\", filename='')]\n",
    "    ]\n",
    "\n",
    "layout = [[sg.Column(left_column), sg.VSeperator(),sg.Column(right_column)]]\n",
    "\n",
    "#Collecting input\n",
    "window = sg.Window('Data Analysis Tool', layout,icon=Icon)\n",
    "while True:\n",
    "    event, values = window.read()\n",
    "    if event == \"exit\":\n",
    "        break\n",
    "    if event == \"file\":\n",
    "        file = values[\"file\"]\n",
    "        try:\n",
    "            df_data =pd.read_excel(file)\n",
    "        except:\n",
    "            try:\n",
    "                df_data =pd.read_csv(file, encoding = 'unicode_escape')\n",
    "            except:\n",
    "                print(\"not a suitable file type\")\n",
    "        window[\"column\"].update(value = '', values=list(df_data.columns))\n",
    "            \n",
    "    if event == \"fit\":\n",
    "        option = (1)\n",
    "        \n",
    "    if event == \"mix\":\n",
    "        option = (2)\n",
    "    \n",
    "    if event == \"qq-plot\":\n",
    "        option = (3)\n",
    "        \n",
    "    if event == \"enter\":\n",
    "        data = (df_data[values[\"column\"]].dropna(how=\"all\"))\n",
    "        original_data=data\n",
    "        data = jt_filtered(data)\n",
    "        \n",
    "        if option == (1):\n",
    "            dist_fit(jt_filtered(data))\n",
    "            window[\"graph\"].update(filename=\"output_graphs/fig1.png\")\n",
    "            \n",
    "        if option == (3):\n",
    "            qqplot(data)\n",
    "            window[\"graph\"].update(filename=\"output_graphs/fig1.png\")\n",
    "            \n",
    "        if option == (2):\n",
    "            n_optimal = BIC(data)[0]\n",
    "            GaussianMix(data)\n",
    "            window[\"graph\"].update(filename=\"output_graphs/fig1.png\")\n",
    "\n",
    "window.close()"
   ]
  }
 ],
 "metadata": {
  "celltoolbar": "Tags",
  "kernelspec": {
   "display_name": "Python 3 (ipykernel)",
   "language": "python",
   "name": "python3"
  },
  "language_info": {
   "codemirror_mode": {
    "name": "ipython",
    "version": 3
   },
   "file_extension": ".py",
   "mimetype": "text/x-python",
   "name": "python",
   "nbconvert_exporter": "python",
   "pygments_lexer": "ipython3",
   "version": "3.9.12"
  }
 },
 "nbformat": 4,
 "nbformat_minor": 5
}
